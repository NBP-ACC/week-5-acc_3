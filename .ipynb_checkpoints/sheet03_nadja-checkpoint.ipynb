{
 "cells": [
  {
   "cell_type": "markdown",
   "metadata": {},
   "source": [
    "Osnabrück University - A&C: Computational Cognition (Summer Term 2019)"
   ]
  },
  {
   "cell_type": "markdown",
   "metadata": {},
   "source": [
    "# Exercise Sheet 03: Analysis of behavioural data"
   ]
  },
  {
   "cell_type": "markdown",
   "metadata": {},
   "source": [
    "## Introduction\n",
    "\n",
    "This week's sheet should be solved and handed in at 14:00 at **Tuesday, May 7, 2019**. If you need help (and Google and other resources were not enough), feel free to contact your tutors. Please push your results to your Github group folder.\n",
    "\n",
    "In this exercise sheet we will start to work on a real dataset from an ongoing experiment. In this experiment the participants were asked to freely explore an unknown virtual city, called Seahaven, with an interactive map. After a sufficiently long exploration the participants were tested on three different tasks: \n",
    "\n",
    "- the **absolute orientation** of a single house towards the north cardinal direction\n",
    "- the **relative orientation** between two houses \n",
    "- **pointing** from the location of one house to the other\n",
    "\n",
    "Each task type was performed in two time conditions:\n",
    "\n",
    "- **3 seconds** for spontaneous decisions\n",
    "- **infinite** response time for cognitive reasoning\n",
    "\n",
    "These measurements were repeated up to three times on different days.\n",
    "\n",
    "We will provide you with more detailed information about this experiment in the tutorial. If you are interested in more than this feel free to have a look at the paper https://www.biorxiv.org/content/10.1101/539080v1.\n",
    "\n",
    "A small side remark to the dataset: The RTs for the absolute task are exactly the same for both time conditions. This is an error that cannot be corrected on a short notice. Please keep that in mind, when you evaluate your plots."
   ]
  },
  {
   "cell_type": "markdown",
   "metadata": {},
   "source": [
    "## Assignment 0: Peer review for sheet 02 [3 pts]"
   ]
  },
  {
   "cell_type": "markdown",
   "metadata": {},
   "source": [
    "Open an issue in the repository of the groups you have to check. The title of the issue should be your group name (e.g. \"Group1). Comment on what was good and what was bad, the aesthetics and ease of reading the plots, what you would have done differently and how many points you would give them for their solutions.\n",
    "\n",
    "| * |Group 1|Group 2|Group 3|Group 4|Group 5|Group 6|Group 7|Group 8|Group 9|Group 10|Group 11|\n",
    "| ------- | ----- | ----- | ----- | ----- | ----- | ----- | ----- | ----- | ----- | ------ | ------ |\n",
    "| check solutions of group: | 11, 9 | 5, 1  | 8, 2  | 2, 7 | 10, 6 | 7, 11 | 6, 5  | 4, 3  | 3, 8  | 1, 4   | 9, 10  |"
   ]
  },
  {
   "cell_type": "markdown",
   "metadata": {},
   "source": [
    "## Assignment 1: Preprocessing [3 pts]"
   ]
  },
  {
   "cell_type": "code",
   "execution_count": 157,
   "metadata": {},
   "outputs": [],
   "source": [
    "import os\n",
    "import numpy as np\n",
    "import pandas as pd\n",
    "import matplotlib.pyplot as plt\n",
    "import seaborn as sns\n",
    "sns.set()\n",
    "from scipy import stats"
   ]
  },
  {
   "cell_type": "markdown",
   "metadata": {},
   "source": [
    "### a) Preprocessing the data [1 pt]"
   ]
  },
  {
   "cell_type": "markdown",
   "metadata": {},
   "source": [
    "First of all you should preprocess the data. This is an important step to avoid running into any problems when you start to analyse the data. Since we provide the Seahaven dataset as an excel file make sure to run ```pip install xlrd``` in your activated acc environment beforehand. This allows you to directly read from excel files.\n",
    "\n",
    "- Import the data of all three tasks (Absolute, Relative, Pointing) into one dataframe. Since we don't need the whole data, load only the columns \"ReactionTime\", \"AngularDiffBin\", \"Subject\", \"Task\", \"Time\", \"Answer\" and \"Measurement\".\n",
    "- Clean the dataframe of all NaNs, i.e. remove all rows where at least one element is missing. How many rows have been removed?\n",
    "- Change the values of the column \"Answer\". Replace each value \"wrong\" with 0 and each value \"correct\" with 1."
   ]
  },
  {
   "cell_type": "code",
   "execution_count": 159,
   "metadata": {},
   "outputs": [
    {
     "data": {
      "text/html": [
       "<div>\n",
       "<style scoped>\n",
       "    .dataframe tbody tr th:only-of-type {\n",
       "        vertical-align: middle;\n",
       "    }\n",
       "\n",
       "    .dataframe tbody tr th {\n",
       "        vertical-align: top;\n",
       "    }\n",
       "\n",
       "    .dataframe thead th {\n",
       "        text-align: right;\n",
       "    }\n",
       "</style>\n",
       "<table border=\"1\" class=\"dataframe\">\n",
       "  <thead>\n",
       "    <tr style=\"text-align: right;\">\n",
       "      <th></th>\n",
       "      <th>ReactionTime</th>\n",
       "      <th>AngularDiffBin</th>\n",
       "      <th>Subject</th>\n",
       "      <th>Task</th>\n",
       "      <th>Time</th>\n",
       "      <th>Answer</th>\n",
       "      <th>Measurement</th>\n",
       "    </tr>\n",
       "  </thead>\n",
       "  <tbody>\n",
       "    <tr>\n",
       "      <th>0</th>\n",
       "      <td>1.664824</td>\n",
       "      <td>150.0</td>\n",
       "      <td>1216.0</td>\n",
       "      <td>Absolute</td>\n",
       "      <td>3sec</td>\n",
       "      <td>0</td>\n",
       "      <td>1.0</td>\n",
       "    </tr>\n",
       "    <tr>\n",
       "      <th>1</th>\n",
       "      <td>0.865788</td>\n",
       "      <td>30.0</td>\n",
       "      <td>1216.0</td>\n",
       "      <td>Absolute</td>\n",
       "      <td>3sec</td>\n",
       "      <td>1</td>\n",
       "      <td>1.0</td>\n",
       "    </tr>\n",
       "    <tr>\n",
       "      <th>2</th>\n",
       "      <td>1.284187</td>\n",
       "      <td>60.0</td>\n",
       "      <td>1216.0</td>\n",
       "      <td>Absolute</td>\n",
       "      <td>3sec</td>\n",
       "      <td>0</td>\n",
       "      <td>1.0</td>\n",
       "    </tr>\n",
       "    <tr>\n",
       "      <th>3</th>\n",
       "      <td>2.081390</td>\n",
       "      <td>180.0</td>\n",
       "      <td>1216.0</td>\n",
       "      <td>Absolute</td>\n",
       "      <td>3sec</td>\n",
       "      <td>0</td>\n",
       "      <td>1.0</td>\n",
       "    </tr>\n",
       "    <tr>\n",
       "      <th>4</th>\n",
       "      <td>1.424746</td>\n",
       "      <td>120.0</td>\n",
       "      <td>1216.0</td>\n",
       "      <td>Absolute</td>\n",
       "      <td>3sec</td>\n",
       "      <td>1</td>\n",
       "      <td>1.0</td>\n",
       "    </tr>\n",
       "    <tr>\n",
       "      <th>5</th>\n",
       "      <td>1.498336</td>\n",
       "      <td>180.0</td>\n",
       "      <td>1216.0</td>\n",
       "      <td>Absolute</td>\n",
       "      <td>3sec</td>\n",
       "      <td>1</td>\n",
       "      <td>1.0</td>\n",
       "    </tr>\n",
       "    <tr>\n",
       "      <th>6</th>\n",
       "      <td>1.213375</td>\n",
       "      <td>150.0</td>\n",
       "      <td>1216.0</td>\n",
       "      <td>Absolute</td>\n",
       "      <td>3sec</td>\n",
       "      <td>0</td>\n",
       "      <td>1.0</td>\n",
       "    </tr>\n",
       "    <tr>\n",
       "      <th>7</th>\n",
       "      <td>1.248617</td>\n",
       "      <td>60.0</td>\n",
       "      <td>1216.0</td>\n",
       "      <td>Absolute</td>\n",
       "      <td>3sec</td>\n",
       "      <td>1</td>\n",
       "      <td>1.0</td>\n",
       "    </tr>\n",
       "    <tr>\n",
       "      <th>...</th>\n",
       "      <td>...</td>\n",
       "      <td>...</td>\n",
       "      <td>...</td>\n",
       "      <td>...</td>\n",
       "      <td>...</td>\n",
       "      <td>...</td>\n",
       "      <td>...</td>\n",
       "    </tr>\n",
       "    <tr>\n",
       "      <th>21376</th>\n",
       "      <td>6.590226</td>\n",
       "      <td>60.0</td>\n",
       "      <td>9998.0</td>\n",
       "      <td>Pointing</td>\n",
       "      <td>Infinite</td>\n",
       "      <td>0</td>\n",
       "      <td>1.0</td>\n",
       "    </tr>\n",
       "    <tr>\n",
       "      <th>21377</th>\n",
       "      <td>5.707828</td>\n",
       "      <td>120.0</td>\n",
       "      <td>9998.0</td>\n",
       "      <td>Pointing</td>\n",
       "      <td>Infinite</td>\n",
       "      <td>1</td>\n",
       "      <td>1.0</td>\n",
       "    </tr>\n",
       "    <tr>\n",
       "      <th>21378</th>\n",
       "      <td>8.291480</td>\n",
       "      <td>30.0</td>\n",
       "      <td>9998.0</td>\n",
       "      <td>Pointing</td>\n",
       "      <td>Infinite</td>\n",
       "      <td>1</td>\n",
       "      <td>1.0</td>\n",
       "    </tr>\n",
       "    <tr>\n",
       "      <th>21379</th>\n",
       "      <td>4.165309</td>\n",
       "      <td>150.0</td>\n",
       "      <td>9998.0</td>\n",
       "      <td>Pointing</td>\n",
       "      <td>Infinite</td>\n",
       "      <td>0</td>\n",
       "      <td>1.0</td>\n",
       "    </tr>\n",
       "    <tr>\n",
       "      <th>21380</th>\n",
       "      <td>8.530098</td>\n",
       "      <td>150.0</td>\n",
       "      <td>9998.0</td>\n",
       "      <td>Pointing</td>\n",
       "      <td>Infinite</td>\n",
       "      <td>0</td>\n",
       "      <td>1.0</td>\n",
       "    </tr>\n",
       "    <tr>\n",
       "      <th>21381</th>\n",
       "      <td>12.060486</td>\n",
       "      <td>120.0</td>\n",
       "      <td>9998.0</td>\n",
       "      <td>Pointing</td>\n",
       "      <td>Infinite</td>\n",
       "      <td>0</td>\n",
       "      <td>1.0</td>\n",
       "    </tr>\n",
       "    <tr>\n",
       "      <th>21382</th>\n",
       "      <td>3.706623</td>\n",
       "      <td>150.0</td>\n",
       "      <td>9998.0</td>\n",
       "      <td>Pointing</td>\n",
       "      <td>Infinite</td>\n",
       "      <td>1</td>\n",
       "      <td>1.0</td>\n",
       "    </tr>\n",
       "    <tr>\n",
       "      <th>21383</th>\n",
       "      <td>8.592371</td>\n",
       "      <td>90.0</td>\n",
       "      <td>9998.0</td>\n",
       "      <td>Pointing</td>\n",
       "      <td>Infinite</td>\n",
       "      <td>1</td>\n",
       "      <td>1.0</td>\n",
       "    </tr>\n",
       "  </tbody>\n",
       "</table>\n",
       "<p>20083 rows × 7 columns</p>\n",
       "</div>"
      ],
      "text/plain": [
       "       ReactionTime  AngularDiffBin  Subject      Task      Time  Answer  \\\n",
       "0          1.664824           150.0   1216.0  Absolute      3sec       0   \n",
       "1          0.865788            30.0   1216.0  Absolute      3sec       1   \n",
       "2          1.284187            60.0   1216.0  Absolute      3sec       0   \n",
       "3          2.081390           180.0   1216.0  Absolute      3sec       0   \n",
       "4          1.424746           120.0   1216.0  Absolute      3sec       1   \n",
       "5          1.498336           180.0   1216.0  Absolute      3sec       1   \n",
       "6          1.213375           150.0   1216.0  Absolute      3sec       0   \n",
       "7          1.248617            60.0   1216.0  Absolute      3sec       1   \n",
       "...             ...             ...      ...       ...       ...     ...   \n",
       "21376      6.590226            60.0   9998.0  Pointing  Infinite       0   \n",
       "21377      5.707828           120.0   9998.0  Pointing  Infinite       1   \n",
       "21378      8.291480            30.0   9998.0  Pointing  Infinite       1   \n",
       "21379      4.165309           150.0   9998.0  Pointing  Infinite       0   \n",
       "21380      8.530098           150.0   9998.0  Pointing  Infinite       0   \n",
       "21381     12.060486           120.0   9998.0  Pointing  Infinite       0   \n",
       "21382      3.706623           150.0   9998.0  Pointing  Infinite       1   \n",
       "21383      8.592371            90.0   9998.0  Pointing  Infinite       1   \n",
       "\n",
       "       Measurement  \n",
       "0              1.0  \n",
       "1              1.0  \n",
       "2              1.0  \n",
       "3              1.0  \n",
       "4              1.0  \n",
       "5              1.0  \n",
       "6              1.0  \n",
       "7              1.0  \n",
       "...            ...  \n",
       "21376          1.0  \n",
       "21377          1.0  \n",
       "21378          1.0  \n",
       "21379          1.0  \n",
       "21380          1.0  \n",
       "21381          1.0  \n",
       "21382          1.0  \n",
       "21383          1.0  \n",
       "\n",
       "[20083 rows x 7 columns]"
      ]
     },
     "execution_count": 159,
     "metadata": {},
     "output_type": "execute_result"
    }
   ],
   "source": [
    "# import xlrd library to read excel files \n",
    "import xlrd\n",
    "\n",
    "# import data into dataframe (only mentioned columns)\n",
    "PATH = os.getcwd()+ \"/Seahaven_dataset.xlsx\"\n",
    "\n",
    "# merge all task type sheets into one data frame \n",
    "data = pd.read_excel(PATH, None)\n",
    "all_sheets = []\n",
    "for key in data.keys():\n",
    "    all_sheets.append(data[key])\n",
    "data_concatenated = pd.concat(all_sheets, axis = 0, ignore_index = True, sort=False)\n",
    "\n",
    "# consider only mentioned columns within the data frame \n",
    "df = pd.DataFrame()\n",
    "df = data_concatenated[[\"ReactionTime\", \"AngularDiffBin\", \"Subject\", \"Task\", \"Time\", \"Answer\", \"Measurement\"]]\n",
    "\n",
    "# save length of df with rows including NaNs \n",
    "df_len_with_nans = len(df)\n",
    "\n",
    "# remove rows with at least one NaN \n",
    "df = df.dropna()\n",
    "\n",
    "# save length of df with rows including NaNs \n",
    "df_len_without_nans = len(df)\n",
    "\n",
    "# In Answers column, replace wrong answers with 0, correct answers with 1\n",
    "df.loc[df[\"Answer\"] == 'wrong', \"Answer\"] = 0\n",
    "df.loc[df[\"Answer\"] == 'correct', \"Answer\"] = 1\n",
    "\n",
    "# display dataframe \n",
    "df"
   ]
  },
  {
   "cell_type": "code",
   "execution_count": 160,
   "metadata": {},
   "outputs": [
    {
     "name": "stdout",
     "output_type": "stream",
     "text": [
      "Number of Rows with NaNs: 21384 \n",
      "Number of Rows without NaNs: 20083 \n",
      "Deleted Rows: 1301\n"
     ]
    }
   ],
   "source": [
    "# print number of rows with NaNs, without NaNs and deleted rows in total \n",
    "print(\"Number of Rows with NaNs: {} \\nNumber of Rows without NaNs: {} \\nDeleted Rows: {}\".format(df_len_with_nans, df_len_without_nans, df_len_with_nans - df_len_without_nans))"
   ]
  },
  {
   "cell_type": "markdown",
   "metadata": {},
   "source": [
    "### b) Checking the distribution of the data [2 pts]"
   ]
  },
  {
   "cell_type": "markdown",
   "metadata": {},
   "source": [
    "Most of the analysis techniques require normally distributed data. To get an idea on how the data looks like use the **preprocessed data** from 1.a) and plot for each task a violinplot that displays the data distribution of the RTs (note that you also have to distinguish between the two time conditions - 3sec and Infinite).\n",
    "\n",
    "- For each task (Absolute, Relative, Pointing) and time condition (3sec, Infinite) calculate the mean RT per subject.\n",
    "- Make a violinplot for each combination of task and time condition (you should end up with 6 violinplots). Make sure that the data distributions are displayed clearly and that the y-axes are uniformly scaled to make your plots comparable. You may split up the single plots for a better overview.\n",
    "- Hint: Play with the keyword inner.\n",
    "- Using your plots, what can you say about the distribution of the data? It is normally distributed? How is it skewed?"
   ]
  },
  {
   "cell_type": "code",
   "execution_count": 192,
   "metadata": {},
   "outputs": [
    {
     "data": {
      "text/html": [
       "<div>\n",
       "<style scoped>\n",
       "    .dataframe tbody tr th:only-of-type {\n",
       "        vertical-align: middle;\n",
       "    }\n",
       "\n",
       "    .dataframe tbody tr th {\n",
       "        vertical-align: top;\n",
       "    }\n",
       "\n",
       "    .dataframe thead th {\n",
       "        text-align: right;\n",
       "    }\n",
       "</style>\n",
       "<table border=\"1\" class=\"dataframe\">\n",
       "  <thead>\n",
       "    <tr style=\"text-align: right;\">\n",
       "      <th></th>\n",
       "      <th></th>\n",
       "      <th></th>\n",
       "      <th>MeanRT</th>\n",
       "    </tr>\n",
       "    <tr>\n",
       "      <th>Subject</th>\n",
       "      <th>Task</th>\n",
       "      <th>Time</th>\n",
       "      <th></th>\n",
       "    </tr>\n",
       "  </thead>\n",
       "  <tbody>\n",
       "    <tr>\n",
       "      <th rowspan=\"6\" valign=\"top\">1216.0</th>\n",
       "      <th rowspan=\"2\" valign=\"top\">Absolute</th>\n",
       "      <th>3sec</th>\n",
       "      <td>1.341370</td>\n",
       "    </tr>\n",
       "    <tr>\n",
       "      <th>Infinite</th>\n",
       "      <td>1.341370</td>\n",
       "    </tr>\n",
       "    <tr>\n",
       "      <th rowspan=\"2\" valign=\"top\">Pointing</th>\n",
       "      <th>3sec</th>\n",
       "      <td>1.324583</td>\n",
       "    </tr>\n",
       "    <tr>\n",
       "      <th>Infinite</th>\n",
       "      <td>1.663641</td>\n",
       "    </tr>\n",
       "    <tr>\n",
       "      <th rowspan=\"2\" valign=\"top\">Relative</th>\n",
       "      <th>3sec</th>\n",
       "      <td>1.015738</td>\n",
       "    </tr>\n",
       "    <tr>\n",
       "      <th>Infinite</th>\n",
       "      <td>2.554127</td>\n",
       "    </tr>\n",
       "    <tr>\n",
       "      <th rowspan=\"4\" valign=\"top\">1217.0</th>\n",
       "      <th rowspan=\"2\" valign=\"top\">Absolute</th>\n",
       "      <th>3sec</th>\n",
       "      <td>1.810178</td>\n",
       "    </tr>\n",
       "    <tr>\n",
       "      <th>Infinite</th>\n",
       "      <td>1.810178</td>\n",
       "    </tr>\n",
       "    <tr>\n",
       "      <th rowspan=\"2\" valign=\"top\">Pointing</th>\n",
       "      <th>3sec</th>\n",
       "      <td>1.877376</td>\n",
       "    </tr>\n",
       "    <tr>\n",
       "      <th>Infinite</th>\n",
       "      <td>24.158690</td>\n",
       "    </tr>\n",
       "    <tr>\n",
       "      <th>...</th>\n",
       "      <th>...</th>\n",
       "      <th>...</th>\n",
       "      <td>...</td>\n",
       "    </tr>\n",
       "    <tr>\n",
       "      <th rowspan=\"4\" valign=\"top\">9997.0</th>\n",
       "      <th rowspan=\"2\" valign=\"top\">Pointing</th>\n",
       "      <th>3sec</th>\n",
       "      <td>2.293616</td>\n",
       "    </tr>\n",
       "    <tr>\n",
       "      <th>Infinite</th>\n",
       "      <td>4.584341</td>\n",
       "    </tr>\n",
       "    <tr>\n",
       "      <th rowspan=\"2\" valign=\"top\">Relative</th>\n",
       "      <th>3sec</th>\n",
       "      <td>1.652760</td>\n",
       "    </tr>\n",
       "    <tr>\n",
       "      <th>Infinite</th>\n",
       "      <td>3.567794</td>\n",
       "    </tr>\n",
       "    <tr>\n",
       "      <th rowspan=\"6\" valign=\"top\">9998.0</th>\n",
       "      <th rowspan=\"2\" valign=\"top\">Absolute</th>\n",
       "      <th>3sec</th>\n",
       "      <td>2.075091</td>\n",
       "    </tr>\n",
       "    <tr>\n",
       "      <th>Infinite</th>\n",
       "      <td>2.075091</td>\n",
       "    </tr>\n",
       "    <tr>\n",
       "      <th rowspan=\"2\" valign=\"top\">Pointing</th>\n",
       "      <th>3sec</th>\n",
       "      <td>2.090532</td>\n",
       "    </tr>\n",
       "    <tr>\n",
       "      <th>Infinite</th>\n",
       "      <td>5.634722</td>\n",
       "    </tr>\n",
       "    <tr>\n",
       "      <th rowspan=\"2\" valign=\"top\">Relative</th>\n",
       "      <th>3sec</th>\n",
       "      <td>2.126811</td>\n",
       "    </tr>\n",
       "    <tr>\n",
       "      <th>Infinite</th>\n",
       "      <td>7.638568</td>\n",
       "    </tr>\n",
       "  </tbody>\n",
       "</table>\n",
       "<p>582 rows × 1 columns</p>\n",
       "</div>"
      ],
      "text/plain": [
       "                              MeanRT\n",
       "Subject Task     Time               \n",
       "1216.0  Absolute 3sec       1.341370\n",
       "                 Infinite   1.341370\n",
       "        Pointing 3sec       1.324583\n",
       "                 Infinite   1.663641\n",
       "        Relative 3sec       1.015738\n",
       "                 Infinite   2.554127\n",
       "1217.0  Absolute 3sec       1.810178\n",
       "                 Infinite   1.810178\n",
       "        Pointing 3sec       1.877376\n",
       "                 Infinite  24.158690\n",
       "...                              ...\n",
       "9997.0  Pointing 3sec       2.293616\n",
       "                 Infinite   4.584341\n",
       "        Relative 3sec       1.652760\n",
       "                 Infinite   3.567794\n",
       "9998.0  Absolute 3sec       2.075091\n",
       "                 Infinite   2.075091\n",
       "        Pointing 3sec       2.090532\n",
       "                 Infinite   5.634722\n",
       "        Relative 3sec       2.126811\n",
       "                 Infinite   7.638568\n",
       "\n",
       "[582 rows x 1 columns]"
      ]
     },
     "execution_count": 192,
     "metadata": {},
     "output_type": "execute_result"
    },
    {
     "data": {
      "image/png": "[encoded data removed]",
      "text/plain": [
       "<Figure size 2160x720 with 3 Axes>"
      ]
     },
     "metadata": {},
     "output_type": "display_data"
    }
   ],
   "source": [
    "import statistics\n",
    "\n",
    "# create two axes and manage color settings of axis face and hue\n",
    "sns.set(rc = {'axes.facecolor': 'lightgray'})\n",
    "fig, axes = plt.subplots(nrows = 1, ncols = 3, figsize=(30, 10))\n",
    "sns.set(rc = {'axes.facecolor': 'white'})\n",
    "\n",
    "# drop columns which are not necessary for calculating the mean reaction time \n",
    "df_mean = df.drop(['AngularDiffBin', 'Answer', 'Measurement'], axis=1)\n",
    "\n",
    "# calculate mean reaction time for each task type and time condition grouped by subject \n",
    "df_mean = df_mean.groupby(['Subject', 'Task', 'Time']).mean()\n",
    "df_mean = df_mean.rename(columns = {'ReactionTime': 'MeanRT'})\n",
    "\n",
    "# only consider rows where the task type is absolute/relative/pointing for later displaying the violin plots\n",
    "df_absolute = df[(df['Task'] == \"Absolute\")]\n",
    "df_relative = df[(df['Task'] == \"Relative\")]\n",
    "df_pointing = df[(df['Task'] == \"Pointing\")]\n",
    "\n",
    "# display a violinplot for absolute task which displays the distribution of reaction time (time conditions are distinguished)\n",
    "sns.violinplot(data = df_absolute, x = \"Time\", y = \"ReactionTime\", hue = \"Task\", color = 'green', ax = axes[0])\n",
    "# display a violinplot for relative task which displays the distribution of reaction time (time conditions are distinguished)\n",
    "sns.violinplot(data = df_relative, x = 'Time', y = 'ReactionTime', hue = 'Task', color = 'red', ax = axes[1])\n",
    "# display a violinplot for pointing task which displays the distribution of reaction time (time conditions are distinguished)\n",
    "sns.violinplot(data = df_pointing, x = 'Time', y = 'ReactionTime', hue = 'Task', color = 'blue', ax = axes[2])\n",
    "\n",
    "# use pd.set_option here to display in a nice way\n",
    "pd.set_option(\"display.max_rows\", 20)\n",
    "\n",
    "# display the mean reaction time \n",
    "df_mean"
   ]
  },
  {
   "cell_type": "markdown",
   "metadata": {},
   "source": [
    "[INSERT ANSWER] \"Using your plots, what can you say about the distribution of the data? It is normally distributed? How is it skewed?\""
   ]
  },
  {
   "cell_type": "markdown",
   "metadata": {},
   "source": [
    "You may have noticed that there are (extreme) outliers, that have to be removed from the **preprocessed data**.\n",
    "\n",
    "- For each task (Absolute, Relative, Pointing) and time condition (3sec, Infinite) look at the RTs and keep only the ones that are within +2 and -2 standard deviation:\n",
    "\n",
    "$ |(RT_{group1} - mean(RT_{group1}))| \\leq (2*std(RT_{group1})) $\n",
    "\n",
    "$group1$ = e.g. data of absolute task for time condition 3sec\n",
    "\n",
    "- Make again a violinplot for each combination of task and time condition (you should end up with 6 violinplots). Make sure that the data distributions are displayed clearly and that the y-axes are uniformly scaled to make your plots comparable. You may split up the single plots for a better overview.\n",
    "- How does the distribution of the data look now? Is it still skewed?"
   ]
  },
  {
   "cell_type": "code",
   "execution_count": null,
   "metadata": {},
   "outputs": [],
   "source": [
    "# TODO"
   ]
  },
  {
   "cell_type": "markdown",
   "metadata": {},
   "source": [
    "**Please make sure that you use the preprocessed data without outliers for the following assignments!**"
   ]
  },
  {
   "cell_type": "markdown",
   "metadata": {},
   "source": [
    "## Assignment 2: Checking for possible hypotheses [5 pts]"
   ]
  },
  {
   "cell_type": "markdown",
   "metadata": {},
   "source": [
    "### a) Hypothesis 1 [2 pt]"
   ]
  },
  {
   "cell_type": "markdown",
   "metadata": {},
   "source": [
    "**Hypothesis 1:** \"Given that subjects are limited by time, if they are faster in RT they are also less accurate.\"\n",
    "\n",
    "- Use the data of the relative task.\n",
    "- For each time condition (3sec / Infinite) calculate the mean RT and Accuracy per subject. Rename the column \"Answer\" to \"Accuracy\" (the accuracy corresponds to the averaged answer-values).\n",
    "- Make a scatterplot of the mean RT (x-axis) and the accuracy (y-axis) for the time condition \"3sec\". \n",
    "- Make a second scatterplot and add a simple linear regression line to it. Calculate the slope of the regression line (you are allowed to use scipy). \n",
    "- Considering your results, what can you say about the hypothesis?"
   ]
  },
  {
   "cell_type": "code",
   "execution_count": null,
   "metadata": {},
   "outputs": [],
   "source": [
    "# TODO"
   ]
  },
  {
   "cell_type": "markdown",
   "metadata": {},
   "source": [
    "### b) Hypothesis 2 [1 pt]"
   ]
  },
  {
   "cell_type": "markdown",
   "metadata": {},
   "source": [
    "**Hypothesis 2:** \"Given that subjects have infinite time, they perform better.\"\n",
    "\n",
    "- Use the data of all three tasks.\n",
    "- For each task (Absolute, Relative, Pointing) and time condition (3sec, Infinite) calculate the accuracy per subject. Rename the column \"Answer\" to \"Accuracy\" (the accuracy corresponds to the averaged answer-values).\n",
    "- Make a pointplot of the tasks (x-axis) and the accuracy (y-axis) for both time conditions (3sec / Infinite). The y-axis should start at 0.0 and end at 1.0.\n",
    "- For better comparison print both conditions in one plot and add a line at accuracy=0.5 to check if the results are above chance.\n",
    "- Hint: Play with the keyword dodge.\n",
    "- Considering your plots, what can you say about the hypothesis?"
   ]
  },
  {
   "cell_type": "code",
   "execution_count": null,
   "metadata": {},
   "outputs": [],
   "source": [
    "# TODO"
   ]
  },
  {
   "cell_type": "markdown",
   "metadata": {},
   "source": [
    "### d) Hypothesis 3 [1 pt]"
   ]
  },
  {
   "cell_type": "markdown",
   "metadata": {},
   "source": [
    "**Hypothesis 3:** \"With each subsequent session subjects get better in performance.\"\n",
    "\n",
    "- Use the data of the relative task.\n",
    "- For each time condition (3sec / Infinite) calculate the mean RT and Accuracy per subject. Rename the column \"Answer\" to \"Accuracy\" (the accuracy corresponds to the averaged answer-values).\n",
    "- Make a pointplot of the measurement (x-axis) and the accuracy (y-axis) for both time conditions (3sec / Infinite). The y-axis should start at 0.0 and end at 1.0.\n",
    "- For better comparison print both conditions in one plot and add a line at accuracy=0.5 to check if the results are above chance.\n",
    "- Hint: Play with the keyword dodge.\n",
    "- Make also a pointplot of the measurement (x-axis) and RT (y-axis) for both time conditions (3sec / Infinite).  Make sure that the data is displayed clearly. You may split up the single plots for a better overview.\n",
    "- Considering your plots, what can you say about the hypothesis?"
   ]
  },
  {
   "cell_type": "code",
   "execution_count": null,
   "metadata": {},
   "outputs": [],
   "source": [
    "# TODO"
   ]
  },
  {
   "cell_type": "markdown",
   "metadata": {},
   "source": [
    "### c) Hypothesis 4 [1 pts]"
   ]
  },
  {
   "cell_type": "markdown",
   "metadata": {},
   "source": [
    "**Hypothesis 4:** \"When the angular difference between houses increases subjects are more accurate in the relative task.\"\n",
    "\n",
    "- Use the data of the relative task.\n",
    "- For each angular difference (see \"AngularDiffBin\") calculate the accuracy per subject. Rename the column \"Answer\" to \"Accuracy\" (the accuracy corresponds to the averaged answer-values).\n",
    "- Make a pointplot of the angular differences (x-axis) and the accuracy (y-axis) for both time conditions (3sec / Infinite). The y-axis should start at 0.0 and end at 1.0.\n",
    "- For better comparison print both conditions in one plot and add a line at accuracy=0.5 to check if the results are above chance. Make sure that the angular differences are displayed in ascending order.\n",
    "- Hint: Play with the keyword dodge.\n",
    "- Considering your plots, what can you say about the hypothesis?"
   ]
  },
  {
   "cell_type": "code",
   "execution_count": null,
   "metadata": {},
   "outputs": [],
   "source": [
    "# TODO"
   ]
  },
  {
   "cell_type": "markdown",
   "metadata": {},
   "source": [
    "## Assignment 3: T-test [2 pts]"
   ]
  },
  {
   "cell_type": "markdown",
   "metadata": {},
   "source": [
    "We will perform a two-sample t-test, i.e. we compare the mean of two groups under the assumption that both are independent and normally distributed with unknown but equal variances. In this case we will look at the data of the relative task and compare the accuracies of the two time conditions (3sec / Infinte). We will ignore that there are different measurement days!\n",
    "\n",
    "- Use the data of the relative task.\n",
    "- For each time condition (3sec / Infinite) calculate the accuracy per subject. Rename the column \"Answer\" to \"Accuracy\" (the accuracy corresponds to the averaged answer-values).\n",
    "- Check if the data is normally distributed using scipy.stats.normaltest.\n",
    "\n",
    "\n",
    "- Compute the t-statistics: $ t = \\frac{\\bar{x}_1 - \\bar{x}_2}{\\sqrt{\\frac{s_1^2}{n_1} + \\frac{s_2^2}{n_2}}} $\n",
    "\n",
    "$\\bar{x}_1$: mean accuracy of all subjects for time condition \"3sec\" <br>\n",
    "$\\bar{x}_2$: mean accuracy of all subjects for time condition \"Infinite\" <br>\n",
    "$n_1$: sample size for time condition \"3sec\" <br>\n",
    "$n_2$: sample size for time condition \"Infinite\"\n",
    "\n",
    "\n",
    "- with $ s^2 = \\frac{\\sum_{i=1}^n{(x_i - \\bar{x})^2}}{n-1} $\n",
    "\n",
    "$x_i$: accuracy of subject i <br>\n",
    "$\\bar{x}$: mean accuracy of all subjects <br>\n",
    "$n$: sample size\n",
    "\n",
    "\n",
    "- Calculate the degrees of freedom: $ df = n_1 + n_2 -2 $\n",
    "- What does the p-value of a t-test tell you in general? Also explain what your calculated p-value tells you specifically (given $\\alpha = 0.05$)?"
   ]
  },
  {
   "cell_type": "code",
   "execution_count": null,
   "metadata": {},
   "outputs": [],
   "source": [
    "# TODO\n",
    "\n",
    "# gives you the p-value after comparing the t-statistic with the critical t value (computed internally) \n",
    "p = 1 - stats.t.cdf(t,df=df)\n",
    "\n",
    "print(\"t = \" + str(t))\n",
    "print(\"p = \" + str(2*p))\n",
    "\n",
    "# test if your calculation is correct\n",
    "t2, p2 = stats.ttest_ind(x1,x2)\n",
    "print(\"t = \" + str(t2))\n",
    "print(\"p = \" + str(p2))"
   ]
  }
 ],
 "metadata": {
  "kernelspec": {
   "display_name": "Python 3",
   "language": "python",
   "name": "python3"
  },
  "language_info": {
   "codemirror_mode": {
    "name": "ipython",
    "version": 3
   },
   "file_extension": ".py",
   "mimetype": "text/x-python",
   "name": "python",
   "nbconvert_exporter": "python",
   "pygments_lexer": "ipython3",
   "version": "3.7.1"
  }
 },
 "nbformat": 4,
 "nbformat_minor": 2
}
